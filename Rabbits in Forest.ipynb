{
 "cells": [
  {
   "cell_type": "code",
   "execution_count": null,
   "id": "30194b50",
   "metadata": {
    "vscode": {
     "languageId": "plaintext"
    }
   },
   "outputs": [],
   "source": [
    "# Rabbits in Forest \n",
    "class Solution:\n",
    "    def numRabbits(self, answers: List[int]) -> int:\n",
    "        count = 0 # Indented by 4 spaces\n",
    "        seen = {} # Indented by 4 spaces\n",
    "\n",
    "        for answer in answers:\n",
    "            if answer not in seen:\n",
    "                seen[answer] = 0\n",
    "            \n",
    "            if seen[answer] == 0:\n",
    "                count += (answer + 1)\n",
    "                seen[answer] = answer\n",
    "            else:\n",
    "                seen[answer] -= 1\n",
    "\n",
    "        return count # Indented by 4 spaces "
   ]
  }
 ],
 "metadata": {
  "kernelspec": {
   "display_name": "Python 3 (ipykernel)",
   "language": "python",
   "name": "python3"
  },
  "language_info": {
   "codemirror_mode": {
    "name": "ipython",
    "version": 3
   },
   "file_extension": ".py",
   "mimetype": "text/x-python",
   "name": "python",
   "nbconvert_exporter": "python",
   "pygments_lexer": "ipython3",
   "version": "3.12.4"
  }
 },
 "nbformat": 4,
 "nbformat_minor": 5
}
